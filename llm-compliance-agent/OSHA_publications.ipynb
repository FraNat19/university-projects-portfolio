{
  "nbformat": 4,
  "nbformat_minor": 0,
  "metadata": {
    "colab": {
      "provenance": [],
      "gpuType": "T4"
    },
    "kernelspec": {
      "name": "python3",
      "display_name": "Python 3"
    },
    "language_info": {
      "name": "python"
    },
    "accelerator": "GPU"
  },
  "cells": [
    {
      "cell_type": "markdown",
      "source": [
        "# **OSHA publications**"
      ],
      "metadata": {
        "id": "m5AV3tcqPHV_"
      }
    },
    {
      "cell_type": "code",
      "execution_count": 1,
      "metadata": {
        "colab": {
          "base_uri": "https://localhost:8080/"
        },
        "id": "GLOhC_R_FjaN",
        "outputId": "752ee36e-c5d5-4933-c1f8-94d994c70433"
      },
      "outputs": [
        {
          "output_type": "stream",
          "name": "stdout",
          "text": [
            "Collecting pymupdf\n",
            "  Downloading pymupdf-1.26.4-cp39-abi3-manylinux_2_28_x86_64.whl.metadata (3.4 kB)\n",
            "Downloading pymupdf-1.26.4-cp39-abi3-manylinux_2_28_x86_64.whl (24.1 MB)\n",
            "\u001b[2K   \u001b[90m━━━━━━━━━━━━━━━━━━━━━━━━━━━━━━━━━━━━━━━━\u001b[0m \u001b[32m24.1/24.1 MB\u001b[0m \u001b[31m110.6 MB/s\u001b[0m eta \u001b[36m0:00:00\u001b[0m\n",
            "\u001b[?25hInstalling collected packages: pymupdf\n",
            "Successfully installed pymupdf-1.26.4\n"
          ]
        }
      ],
      "source": [
        "import re\n",
        "import requests\n",
        "from bs4 import BeautifulSoup\n",
        "!pip install pymupdf\n",
        "import fitz  # PyMuPDF"
      ]
    },
    {
      "cell_type": "markdown",
      "source": [
        "**Generic scraping function**\n",
        "\n",
        "Takes a given URL and extracts the main features or content from the page. This function is designed to be reusable for any page on the target website.\n"
      ],
      "metadata": {
        "id": "EyalfO9HFsp4"
      }
    },
    {
      "cell_type": "code",
      "source": [
        "# Funzione per scaricare PDF dal link e estrapoliamo il testo\n",
        "\n",
        "def scarica_e_leggi_pdf(pdf_url):\n",
        "    response = requests.get(pdf_url, stream=True)\n",
        "    if response.status_code != 200:\n",
        "        print(f\"Errore nel download del PDF: {response.status_code}\")\n",
        "        return None\n",
        "\n",
        "    nome_file_pdf = 'osha_temp.pdf'\n",
        "    with open(nome_file_pdf, 'wb') as f:\n",
        "        f.write(response.content)\n",
        "\n",
        "    with fitz.open(nome_file_pdf) as doc:\n",
        "        full_text = \" \".join(page.get_text() for page in doc)\n",
        "\n",
        "    full_text = re.sub(r'\\s+', ' ', full_text).strip()\n",
        "    return full_text\n"
      ],
      "metadata": {
        "id": "p3-oEwRgFmky"
      },
      "execution_count": 2,
      "outputs": []
    },
    {
      "cell_type": "code",
      "source": [
        "# Funzione per estrazione metadati e testo PDF da una pagina di articolo OSHA\n",
        "\n",
        "def scrape_osha_details(book_url):\n",
        "    headers = {'User-Agent': 'Mozilla/5.0'}\n",
        "    p = requests.get(book_url, headers=headers)\n",
        "    page = BeautifulSoup(p.content, 'lxml')\n",
        "\n",
        "    # Metadati principali\n",
        "    title_elem = page.find('h1')\n",
        "    title = title_elem.text.strip() if title_elem else 'N/A'\n",
        "\n",
        "    keywords_elem = page.find('ul', class_='field__items')\n",
        "    keywords = keywords_elem.text.strip().replace('\\n', ', ') if keywords_elem else 'N/A'\n",
        "\n",
        "    descr_blocks = page.find_all(id=re.compile('^tmgmt-'))\n",
        "    descr = ' '.join(p.get_text(strip=True, separator=' ') for p in descr_blocks)\n",
        "    descr = re.sub(r'\\s+', ' ', descr.replace('\\xa0', ' ')).strip()\n",
        "\n",
        "    date_elem = page.find('p', class_='datetime-style')\n",
        "    date = date_elem.text.strip() if date_elem else 'N/A'\n",
        "\n",
        "    link_pdf = page.find('div', class_='download-pdf')\n",
        "    pdf_url = link_pdf.find('a')['href'] if link_pdf else None\n",
        "\n",
        "    # Estrazione testo PDF usando la seconda funzione\n",
        "    testo_pdf = scarica_e_leggi_pdf(pdf_url) if pdf_url else None\n",
        "\n",
        "    return {\n",
        "        'titolo': title,\n",
        "        'keywords': keywords,\n",
        "        'descrizione': descr,\n",
        "        'data': date,\n",
        "        'pdf_url': pdf_url,\n",
        "        'testo_pdf': testo_pdf\n",
        "    }"
      ],
      "metadata": {
        "id": "0JYHjgDoFodH"
      },
      "execution_count": 3,
      "outputs": []
    },
    {
      "cell_type": "code",
      "source": [
        "url = 'https://osha.europa.eu/it/publications/tms-pros-programme-supporting-msds-prevention-health-and-social-care-sector'\n",
        "info = scrape_osha_details(url)\n",
        "\n",
        "print(info.keys())\n",
        "print(info['titolo'])\n",
        "print(info['testo_pdf'][:500])"
      ],
      "metadata": {
        "colab": {
          "base_uri": "https://localhost:8080/"
        },
        "id": "S6yDsh26FrZw",
        "outputId": "d3c25d65-9944-40d6-949d-a5f35134acc6"
      },
      "execution_count": 4,
      "outputs": [
        {
          "output_type": "stream",
          "name": "stdout",
          "text": [
            "dict_keys(['titolo', 'keywords', 'descrizione', 'data', 'pdf_url', 'testo_pdf'])\n",
            "Il programma TMS Pros: sostegno alla prevenzione dei disturbi muscolo-scheletrici (DMS) nel settore dell’assistenza sanitaria e sociale\n",
            "1 CASE STUDY THE TMS PROS PROGRAMME – SUPPORTING MSDS PREVENTION IN THE HEALTH AND SOCIAL CARE SECTOR Introduction Musculoskeletal disorders (MSDs) account for 88% of recognised occupational diseases in France (i.e. almost 45,000). In addition, every year there are 70,000 workplace accidents (lumbago) related to manual handling of loads with at least four days off work.1 In the health and social care (HeSCare) sector, 95% of occupational diseases are related to MSDs, and more than 2.3 million wo\n"
          ]
        }
      ]
    },
    {
      "cell_type": "markdown",
      "source": [
        "**Function to filter publications by topic**\n",
        "\n",
        "Implements a function that searches for and selects one of the pre-defined topics available on the site, returning the corresponding OSHA URL for that specific topic. The function is build in order to not be case-sensitive, so the user can enter it in any combination of upper or lower case letters. This function searches pre-defined topics in either Italian or English, returning the correct OSHA publications URL with the proper language path (/it or /en) based on the topic language provided. It accepts one or multiple topics"
      ],
      "metadata": {
        "id": "Udqn38s_Fyvq"
      }
    },
    {
      "cell_type": "code",
      "source": [
        "from typing import Iterable, List, Union\n",
        "import difflib\n",
        "import unicodedata\n",
        "\n",
        "def link_tematica(topics):\n",
        "\n",
        "    # Costruisce l'URL OSHA per una o più tematiche (IT/EN, case-insensitive).\n",
        "\n",
        "    TOPICS = [\n",
        "    {\"id\": \"4640\", \"it\": \"agricoltura e silvicoltura\", \"en\": \"agriculture and forestry\"},\n",
        "    {\"id\": \"105\", \"it\": \"assistenza sociosanitaria\", \"en\": \"health and social care\"},\n",
        "    {\"id\": \"4644\", \"it\": \"digitalizzazione\", \"en\": \"digitalisation\"},\n",
        "    {\"id\": \"173\", \"it\": \"disturbi muscoloscheletrici\", \"en\": \"musculoskeletal disorders\"},\n",
        "    {\"id\": \"115\", \"it\": \"donne e ssl\", \"en\": \"women and osh\"},\n",
        "    {\"id\": \"56\", \"en\": \"esener\"},  # Solo EN, se non ha IT\n",
        "    {\"id\": \"137\", \"it\": \"horeca\", \"en\": \"horeca\"},\n",
        "    {\"id\": \"166\", \"it\": \"invecchiamento e ssl\", \"en\": \"ageing and osh\"},\n",
        "    {\"id\": \"4645\", \"it\": \"istruzione\", \"en\": \"education\"},\n",
        "    {\"id\": \"4652\", \"it\": \"la leadership e la partecipazione dei lavoratori\", \"en\": \"leadership and worker participation\"},\n",
        "    {\"id\": \"310908\", \"it\": \"l'economia circolare\", \"en\": \"circular economy\"},\n",
        "    {\"id\": \"44\", \"it\": \"posti di lavoro verdi\", \"en\": \"green jobs\"},\n",
        "    {\"id\": \"66\", \"it\": \"manutenzione\", \"en\": \"maintenance\"},\n",
        "    {\"id\": \"126\", \"it\": \"microimprese\", \"en\": \"microenterprises\"},\n",
        "    {\"id\": \"54\", \"it\": \"nanomateriali\", \"en\": \"nanomaterials\"},\n",
        "    {\"id\": \"2967\", \"it\": \"oira\", \"en\": \"oira\"},\n",
        "    {\"id\": \"43\", \"it\": \"prevenzione degli infortuni\", \"en\": \"accident prevention\"},\n",
        "    {\"id\": \"51\", \"it\": \"rischi emergenti\", \"en\": \"emerging risks\"},\n",
        "    {\"id\": \"171\", \"it\": \"rumore nei luoghi di lavoro\", \"en\": \"noise\"},\n",
        "    {\"id\": \"32\", \"it\": \"sostanze pericolose\", \"en\": \"dangerous substances\"},\n",
        "    {\"id\": \"62\", \"it\": \"ssl e i giovani\", \"en\": \"osh and young people\"},\n",
        "    {\"id\": \"97\", \"it\": \"stress e rischi psicosociali\", \"en\": \"psychosocial risks and mental health\"},\n",
        "    {\"id\": \"57\", \"it\": \"trasporti\"},  # Solo IT\n",
        "    {\"id\": \"181\", \"it\": \"una buona ssl è un vantaggio dal punto di vista economico\", \"en\": \"good osh is good for business\"},\n",
        "    {\"id\": \"73\", \"it\": \"valutazione dei rischi\", \"en\": \"risk assessment\"},\n",
        "    {\"id\": \"61\", \"en\": \"work related diseases\"},  # Solo EN\n",
        "    ]\n",
        "\n",
        "    if isinstance(topics, str):\n",
        "        topics = [topics]\n",
        "    if not topics:\n",
        "        raise ValueError(\"Fornire almeno una tematica.\")\n",
        "\n",
        "    # Normalizza input\n",
        "    norm_topics = []\n",
        "    for t in topics:\n",
        "        t = t.strip().lower()\n",
        "        t = \" \".join(t.split())\n",
        "        t = unicodedata.normalize(\"NFKC\", t).replace(\"’\", \"'\")\n",
        "        norm_topics.append(t)\n",
        "\n",
        "    # Set unificato per suggerimenti (tutti i nomi IT+EN)\n",
        "    all_names = set()\n",
        "    for tp in TOPICS:\n",
        "        if \"it\" in tp:\n",
        "            all_names.add(tp[\"it\"])\n",
        "        if \"en\" in tp:\n",
        "            all_names.add(tp[\"en\"])\n",
        "\n",
        "    # Mappa e rileva lingua\n",
        "    it_ids, en_ids = [], []\n",
        "    missing = []\n",
        "    for raw, norm in zip(topics, norm_topics):\n",
        "        matched = False\n",
        "        for tp in TOPICS:\n",
        "            if \"it\" in tp and norm == tp[\"it\"]:\n",
        "                it_ids.append(tp[\"id\"])\n",
        "                matched = True\n",
        "                break\n",
        "            elif \"en\" in tp and norm == tp[\"en\"]:\n",
        "                en_ids.append(tp[\"id\"])\n",
        "                matched = True\n",
        "                break\n",
        "        if not matched:\n",
        "            simili = difflib.get_close_matches(norm, all_names, n=3, cutoff=0.6)\n",
        "            hint = f\" (forse: {', '.join(simili)})\" if simili else \"\"\n",
        "            missing.append(f\"'{raw}' non trovato{hint}\")\n",
        "\n",
        "    if missing:\n",
        "        raise ValueError(\"Tematica/e non riconosciuta/e: \" + \"; \".join(missing))\n",
        "\n",
        "    if it_ids and en_ids:\n",
        "        raise ValueError(\"Mescolato IT e EN: usa una sola lingua.\")\n",
        "\n",
        "    if not it_ids and not en_ids:\n",
        "        raise ValueError(\"Nessuna tematica valida.\")\n",
        "\n",
        "    lang = \"it\" if it_ids else \"en\"\n",
        "    tags = it_ids if lang == \"it\" else en_ids\n",
        "    base = f\"https://osha.europa.eu/{lang}/publications\"\n",
        "\n",
        "    # Params f[i]=facet_tags:ID\n",
        "    params = [f\"f%5B{i}%5D=facet_tags%3A{tag}\" for i, tag in enumerate(tags)]\n",
        "    query = \"&\".join(params)\n",
        "\n",
        "    return f\"{base}?{query}\"\n"
      ],
      "metadata": {
        "id": "fo0pQeh4F7p3"
      },
      "execution_count": 28,
      "outputs": []
    },
    {
      "cell_type": "code",
      "source": [
        "# Un topic in italiano\n",
        "\n",
        "print(link_tematica(\"Digitalizzazione\"))\n",
        "# -> https://osha.europa.eu/it/publications?f%5B0%5D=facet_tags%3A4644\n",
        "\n",
        "# Due topic in inglese\n",
        "\n",
        "print(link_tematica([\"Digitalisation\", \"Education\"]))\n",
        "# -> https://osha.europa.eu/en/publications?f%5B0%5D=facet_tags%3A4644&f%5B1%5D=facet_tags%3A4645\n",
        "\n",
        "# Due topic in italiano\n",
        "\n",
        "print(link_tematica([\"digitalizzazione\", \"istruzione\"]))\n",
        "# -> https://osha.europa.eu/it/publications?f%5B0%5D=facet_tags%3A4644&f%5B1%5D=facet_tags%3A4645"
      ],
      "metadata": {
        "colab": {
          "base_uri": "https://localhost:8080/"
        },
        "id": "OWcpaqv6Zhzu",
        "outputId": "74bf1fbc-7eec-4a5c-cd0b-67852a94392f"
      },
      "execution_count": 43,
      "outputs": [
        {
          "output_type": "stream",
          "name": "stdout",
          "text": [
            "https://osha.europa.eu/it/publications?f%5B0%5D=facet_tags%3A4644\n",
            "https://osha.europa.eu/en/publications?f%5B0%5D=facet_tags%3A4644&f%5B1%5D=facet_tags%3A4645\n",
            "https://osha.europa.eu/it/publications?f%5B0%5D=facet_tags%3A4644&f%5B1%5D=facet_tags%3A4645\n"
          ]
        }
      ]
    },
    {
      "cell_type": "code",
      "source": [
        "# Esempio per testare funzioni successive\n",
        "\n",
        "link_tematica(\"Digitalizzazione\")\n",
        "url_digital = link_tematica(\"Digitalizzazione\")\n",
        "url_digital"
      ],
      "metadata": {
        "colab": {
          "base_uri": "https://localhost:8080/",
          "height": 36
        },
        "id": "9FAvEKjbGBBj",
        "outputId": "d64dbeb3-f622-41a3-d81c-c0198da67467"
      },
      "execution_count": 33,
      "outputs": [
        {
          "output_type": "execute_result",
          "data": {
            "text/plain": [
              "'https://osha.europa.eu/it/publications?f%5B0%5D=facet_tags%3A4644'"
            ],
            "application/vnd.google.colaboratory.intrinsic+json": {
              "type": "string"
            }
          },
          "metadata": {},
          "execution_count": 33
        }
      ]
    },
    {
      "cell_type": "markdown",
      "source": [
        "**Extracting publication links for a specific topic**\n",
        "\n",
        "Once the URL for a selected topic is found, this function navigates through a specified number of pages and collects all the links to publications related to that topic."
      ],
      "metadata": {
        "id": "VNJlYW7OOObO"
      }
    },
    {
      "cell_type": "code",
      "source": [
        "import requests, re, time, random\n",
        "from bs4 import BeautifulSoup\n",
        "from urllib.parse import urlencode, urlparse, parse_qs, urlunparse, urljoin\n",
        "\n",
        "HEADERS = {\n",
        "    'User-Agent': 'Mozilla/5.0 (Windows NT 10.0; Win64; x64) AppleWebKit/537.36 (KHTML, like Gecko) Chrome/129.0.0.0 Safari/537.36',\n",
        "    'Accept': 'text/html,application/xhtml+xml;q=0.9,*/*;q=0.8',\n",
        "    'Accept-Language': 'it-IT,it;q=0.9,en;q=0.8',\n",
        "    'Referer': 'https://osha.europa.eu/it/',\n",
        "    'Sec-Ch-Ua': '\"Google Chrome\";v=\"129\", \"Chromium\";v=\"129\", \"Not=A?Brand\";v=\"24\"'\n",
        "}\n",
        "\n",
        "def add_page(url, page):\n",
        "    p = urlparse(url)\n",
        "    q = parse_qs(p.query)\n",
        "    q['page'] = [str(page)]\n",
        "    return urlunparse(p._replace(query=urlencode(q, doseq=True)))\n",
        "\n",
        "def get_osha_links(base_url, max_pages=3, pause=(1, 2)):\n",
        "    # Funzione unificata: funziona costruita per funzionare sia per tematiche che per specifici search (fallback automatici sui selector)\n",
        "    results, seen = [], set()\n",
        "    domain = \"https://osha.europa.eu\"\n",
        "\n",
        "    for page in range(max_pages):\n",
        "        url = add_page(base_url, page)\n",
        "        r = requests.get(url, headers=HEADERS, timeout=20)\n",
        "        if r.status_code != 200:\n",
        "            continue\n",
        "\n",
        "        soup = BeautifulSoup(r.text, \"lxml\")\n",
        "\n",
        "        # Selector unificati: priorita a search (revamp), poi tematica (views-row), poi globali\n",
        "        links = (soup.select('div.views-view-grid .revamp-row h2 a[href]') or  # Search grid\n",
        "                 soup.select('div.revamp-row h2 a[href]') or\n",
        "                 soup.select('div.views-row h2 a[href]') or  # Per tematiche\n",
        "                 soup.select('a[href*=\"/publications/\"]'))  # Ultimo fallback (tutti i pub links)\n",
        "\n",
        "        for a in links:\n",
        "            href = urljoin(domain, a['href'])\n",
        "            # Filtro: solo link con slug valido dopo /publications/\n",
        "            if '/publications/' in href and re.search(r'/publications/[^\\s/]+', href) and href not in seen:\n",
        "                seen.add(href)\n",
        "                title = a.get_text(strip=True)\n",
        "                results.append({'title': title, 'url': href})\n",
        "\n",
        "        time.sleep(random.uniform(*pause))\n",
        "\n",
        "    return results"
      ],
      "metadata": {
        "id": "Vo6up_P7Gjoh"
      },
      "execution_count": 49,
      "outputs": []
    },
    {
      "cell_type": "code",
      "source": [
        "links = get_osha_links(url_digital, max_pages=2)\n",
        "\n",
        "# Stampa solo conteggio e lista\n",
        "print(f\"Trovate {len(links)} pubblicazioni totali.\\n\")\n",
        "for item in links:\n",
        "    print(f\"{item['title']}\\n{item['url']}\\n\")"
      ],
      "metadata": {
        "colab": {
          "base_uri": "https://localhost:8080/"
        },
        "id": "1QHv5NKqOdiK",
        "outputId": "9db7cf6d-6fd5-4ce4-df68-cbb828b8e751"
      },
      "execution_count": 8,
      "outputs": [
        {
          "output_type": "stream",
          "name": "stdout",
          "text": [
            "Trovate 10 pubblicazioni totali.\n",
            "\n",
            "Premio per le buone pratiche 2023-2025 della campagna «Ambienti di lavoro sani e sicuri»\n",
            "https://osha.europa.eu/it/publications/healthy-workplaces-good-practice-awards-2023-25\n",
            "\n",
            "Austria: OSH Pulse 2025: salute mentale e digitalizzazione sul luogo di lavoro\n",
            "https://osha.europa.eu/it/publications/austria-osh-pulse-2025-mental-health-and-digitalisation-work\n",
            "\n",
            "Belgio: OSH Pulse 2025: salute mentale e digitalizzazione sul luogo di lavoro\n",
            "https://osha.europa.eu/it/publications/belgium-osh-pulse-2025-mental-health-and-digitalisation-work\n",
            "\n",
            "Bulgaria: OSH Pulse 2025: salute mentale e digitalizzazione sul luogo di lavoro\n",
            "https://osha.europa.eu/it/publications/bulgaria-osh-pulse-2025-mental-health-and-digitalisation-work\n",
            "\n",
            "Cipro: OSH Pulse 2025: salute mentale e digitalizzazione sul luogo di lavoro\n",
            "https://osha.europa.eu/it/publications/cyprus-osh-pulse-2025-mental-health-and-digitalisation-work\n",
            "\n",
            "Croazia: OSH Pulse 2025: salute mentale e digitalizzazione sul luogo di lavoro\n",
            "https://osha.europa.eu/it/publications/croatia-osh-pulse-2025-mental-health-and-digitalisation-work\n",
            "\n",
            "Danimarca: OSH Pulse 2025: salute mentale e digitalizzazione sul luogo di lavoro\n",
            "https://osha.europa.eu/it/publications/denmark-osh-pulse-2025-mental-health-and-digitalisation-work\n",
            "\n",
            "Estonia: OSH Pulse 2025: salute mentale e digitalizzazione sul luogo di lavoro\n",
            "https://osha.europa.eu/it/publications/estonia-osh-pulse-2025-mental-health-and-digitalisation-work\n",
            "\n",
            "Finlandia: OSH Pulse 2025: salute mentale e digitalizzazione sul luogo di lavoro\n",
            "https://osha.europa.eu/it/publications/finland-osh-pulse-2025-mental-health-and-digitalisation-work\n",
            "\n",
            "Francia: OSH Pulse 2025: salute mentale e digitalizzazione sul luogo di lavoro\n",
            "https://osha.europa.eu/it/publications/france-osh-pulse-2025-mental-health-and-digitalisation-work\n",
            "\n"
          ]
        }
      ]
    },
    {
      "cell_type": "markdown",
      "source": [
        "**Saving scraped links to a JSON file**\n",
        "\n",
        "After gathering the links for a given topic, the function scrapes each link to extract relevant information and then saves the collected data into a JSON file for further use or analysis."
      ],
      "metadata": {
        "id": "ytVFuXj0Q9qq"
      }
    },
    {
      "cell_type": "code",
      "source": [
        "import json\n",
        "import os\n",
        "\n",
        "def salva_in_json(record, filename):\n",
        "    # Aggiunge un record a un file JSON (creandolo se non esiste)\n",
        "    if os.path.exists(filename):\n",
        "        with open(filename, 'r', encoding='utf-8') as f:\n",
        "            data = json.load(f)\n",
        "    else:\n",
        "        data = []\n",
        "\n",
        "    data.append(record)\n",
        "\n",
        "    with open(filename, 'w', encoding='utf-8') as f:\n",
        "        json.dump(data, f, ensure_ascii=False, indent=2)\n"
      ],
      "metadata": {
        "id": "vaxojC7WRIwg"
      },
      "execution_count": 9,
      "outputs": []
    },
    {
      "cell_type": "code",
      "source": [
        "import time   # per non essere bloccati dal server OSHA\n",
        "import random\n",
        "\n",
        "def scrape_osha_topic(base_url, max_pages=5, output_file='osha_risultati.json'):\n",
        "    links = get_osha_links(base_url, max_pages=max_pages)\n",
        "    print(f\"Trovate {len(links)} pubblicazioni totali.\\n\")\n",
        "\n",
        "    for i, item in enumerate(links, start=1):\n",
        "        print(f\"[{i}/{len(links)}] Estraggo: {item['title']}\")\n",
        "        try:\n",
        "            dati = scrape_osha_details(item['url'])\n",
        "            dati['url_pubblicazione'] = item['url']\n",
        "            salva_in_json(dati, output_file)\n",
        "            print(f\" Salvato: {item['title']}\")\n",
        "        except Exception as e:\n",
        "            print(f\" Errore su {item['url']}: {e}\")\n",
        "\n",
        "        time.sleep(random.uniform(1, 3))  # pausa random 1-3 sec\n"
      ],
      "metadata": {
        "id": "XZT5_a8tRJu4"
      },
      "execution_count": 10,
      "outputs": []
    },
    {
      "cell_type": "code",
      "source": [
        "# Scraping per tematica\n",
        "scrape_osha_topic(url_digital, max_pages=2, output_file='osha_digitalizzazione.json')"
      ],
      "metadata": {
        "colab": {
          "base_uri": "https://localhost:8080/"
        },
        "id": "65_csKKORVoF",
        "outputId": "5e5873ae-e1a9-4df6-ee09-d8cdeee5121c"
      },
      "execution_count": 11,
      "outputs": [
        {
          "output_type": "stream",
          "name": "stdout",
          "text": [
            "Trovate 10 pubblicazioni totali.\n",
            "\n",
            "[1/10] Estraggo: Premio per le buone pratiche 2023-2025 della campagna «Ambienti di lavoro sani e sicuri»\n",
            " Salvato: Premio per le buone pratiche 2023-2025 della campagna «Ambienti di lavoro sani e sicuri»\n",
            "[2/10] Estraggo: Austria: OSH Pulse 2025: salute mentale e digitalizzazione sul luogo di lavoro\n",
            " Salvato: Austria: OSH Pulse 2025: salute mentale e digitalizzazione sul luogo di lavoro\n",
            "[3/10] Estraggo: Belgio: OSH Pulse 2025: salute mentale e digitalizzazione sul luogo di lavoro\n",
            " Salvato: Belgio: OSH Pulse 2025: salute mentale e digitalizzazione sul luogo di lavoro\n",
            "[4/10] Estraggo: Bulgaria: OSH Pulse 2025: salute mentale e digitalizzazione sul luogo di lavoro\n",
            " Salvato: Bulgaria: OSH Pulse 2025: salute mentale e digitalizzazione sul luogo di lavoro\n",
            "[5/10] Estraggo: Cipro: OSH Pulse 2025: salute mentale e digitalizzazione sul luogo di lavoro\n",
            " Salvato: Cipro: OSH Pulse 2025: salute mentale e digitalizzazione sul luogo di lavoro\n",
            "[6/10] Estraggo: Croazia: OSH Pulse 2025: salute mentale e digitalizzazione sul luogo di lavoro\n",
            " Salvato: Croazia: OSH Pulse 2025: salute mentale e digitalizzazione sul luogo di lavoro\n",
            "[7/10] Estraggo: Danimarca: OSH Pulse 2025: salute mentale e digitalizzazione sul luogo di lavoro\n",
            " Salvato: Danimarca: OSH Pulse 2025: salute mentale e digitalizzazione sul luogo di lavoro\n",
            "[8/10] Estraggo: Estonia: OSH Pulse 2025: salute mentale e digitalizzazione sul luogo di lavoro\n",
            " Salvato: Estonia: OSH Pulse 2025: salute mentale e digitalizzazione sul luogo di lavoro\n",
            "[9/10] Estraggo: Finlandia: OSH Pulse 2025: salute mentale e digitalizzazione sul luogo di lavoro\n",
            " Salvato: Finlandia: OSH Pulse 2025: salute mentale e digitalizzazione sul luogo di lavoro\n",
            "[10/10] Estraggo: Francia: OSH Pulse 2025: salute mentale e digitalizzazione sul luogo di lavoro\n",
            " Salvato: Francia: OSH Pulse 2025: salute mentale e digitalizzazione sul luogo di lavoro\n"
          ]
        }
      ]
    },
    {
      "cell_type": "markdown",
      "source": [
        "**Search function using custom keywords**\n",
        "\n",
        "Allows users to generate an OSHA publications search URL using any keyword of interest or multi-word phrase, requiring an explicit language parameter to target the correct site section (/it or /en). The search is not case-sensitive."
      ],
      "metadata": {
        "id": "lMHy1EolSMAH"
      }
    },
    {
      "cell_type": "code",
      "source": [
        "from urllib.parse import quote_plus\n",
        "import unicodedata\n",
        "\n",
        "def build_osha_search_url(query: str, lang: str, sort: str = \"field_publication_date\") -> str:\n",
        "\n",
        "    # Costruisce l'URL di ricerca per le pubblicazioni OSHA.\n",
        "\n",
        "    if not isinstance(query, str) or not query.strip():\n",
        "        raise ValueError(\"La query deve essere una stringa non vuota.\")\n",
        "    if lang not in {\"it\", \"en\"}:\n",
        "        raise ValueError(\"Il parametro 'lang' deve essere 'it' oppure 'en'.\")\n",
        "\n",
        "    # Normalizzazione leggera: unicode, trim, lower, spazi multipli\n",
        "    q = unicodedata.normalize(\"NFKC\", query).strip().lower()\n",
        "    q = \" \".join(q.split())\n",
        "    q = q.replace(\"’\", \"'\")\n",
        "\n",
        "    encoded_query = quote_plus(q)\n",
        "    base_url = f\"https://osha.europa.eu/{lang}/publications\"\n",
        "    return f\"{base_url}?search_api_fulltext={encoded_query}&sort_by={sort}\"\n"
      ],
      "metadata": {
        "id": "aT8G3ngnSVgz"
      },
      "execution_count": 39,
      "outputs": []
    },
    {
      "cell_type": "code",
      "source": [
        "# Esempi\n",
        "\n",
        "print(build_osha_search_url(\"risk assessment\", lang=\"en\"))\n",
        "# -> https://osha.europa.eu/en/publications?search_api_fulltext=risk+assessment&sort_by=field_publication_date\n",
        "\n",
        "print(build_osha_search_url(\"sicurezza sul lavoro\", lang=\"it\"))\n",
        "# -> https://osha.europa.eu/it/publications?search_api_fulltext=sicurezza+su+lavoro&sort_by=field_publication_date\n",
        "\n",
        "print(build_osha_search_url(\"Workplace   Safety  \", lang=\"en\"))\n",
        "# -> https://osha.europa.eu/en/publications?search_api_fulltext=workplace+safety&sort_by=field_publication_date\n",
        "\n"
      ],
      "metadata": {
        "colab": {
          "base_uri": "https://localhost:8080/"
        },
        "id": "CcfDvFzYVcyH",
        "outputId": "9bec1b2d-2f41-445c-d3bb-16c387ae2e66"
      },
      "execution_count": 40,
      "outputs": [
        {
          "output_type": "stream",
          "name": "stdout",
          "text": [
            "https://osha.europa.eu/en/publications?search_api_fulltext=risk+assessment&sort_by=field_publication_date\n",
            "https://osha.europa.eu/it/publications?search_api_fulltext=sicurezza+sul+lavoro&sort_by=field_publication_date\n",
            "https://osha.europa.eu/en/publications?search_api_fulltext=workplace+safety&sort_by=field_publication_date\n"
          ]
        }
      ]
    },
    {
      "cell_type": "code",
      "source": [
        "#  Funzione che chiede all’utente sia la query sia la lingua per costruire l’URL di ricerca\n",
        "\n",
        "def ask_user_and_build_search_url():\n",
        "    query = input(\"Inserisci la parola o frase da cercare su OSHA: \").strip()\n",
        "    lang = input(\"Specifica la lingua ('it' per italiano, 'en' per inglese): \").strip().lower()\n",
        "\n",
        "    # Validazione semplice del parametro lingua\n",
        "    while lang not in {\"it\", \"en\"}:\n",
        "        print(\"Lingua non valida. Inserisci 'it' oppure 'en'.\")\n",
        "        lang = input(\"Specifica la lingua ('it' per italiano, 'en' per inglese): \").strip().lower()\n",
        "\n",
        "    url = build_osha_search_url(query, lang=lang)\n",
        "    print(\"URL di ricerca OSHA:\", url)\n",
        "    return url"
      ],
      "metadata": {
        "id": "58WWJdRZdYsu"
      },
      "execution_count": 46,
      "outputs": []
    },
    {
      "cell_type": "code",
      "source": [
        "# Esecuzione\n",
        "search_url = ask_user_and_build_search_url()"
      ],
      "metadata": {
        "colab": {
          "base_uri": "https://localhost:8080/"
        },
        "id": "BE5RI3oDd3vz",
        "outputId": "9dcde9ee-32ab-4c86-dfa2-7a4600887cf5"
      },
      "execution_count": 48,
      "outputs": [
        {
          "output_type": "stream",
          "name": "stdout",
          "text": [
            "Inserisci la parola o frase da cercare su OSHA: Ai e Lavoro\n",
            "Specifica la lingua ('it' per italiano, 'en' per inglese): it\n",
            "URL di ricerca OSHA: https://osha.europa.eu/it/publications?search_api_fulltext=ai+e+lavoro&sort_by=field_publication_date\n"
          ]
        }
      ]
    },
    {
      "cell_type": "markdown",
      "source": [
        "**Scraping based on keyword search results**\n",
        "\n",
        "Building on the keyword search, this function paginates through the resulting publication links for a defined number of pages, and then scrapes detailed data from each one as in the previous steps."
      ],
      "metadata": {
        "id": "RpJhMumsVm8z"
      }
    },
    {
      "cell_type": "code",
      "source": [
        "links = get_osha_links(search_url, max_pages=2)\n",
        "\n",
        "# Stampa solo conteggio e lista (una volta!)\n",
        "print(f\"Trovate {len(links)} pubblicazioni totali.\\n\")\n",
        "for item in links:\n",
        "    print(f\"{item['title']}\\n{item['url']}\\n\")"
      ],
      "metadata": {
        "colab": {
          "base_uri": "https://localhost:8080/"
        },
        "id": "Dkar3c5oVsf9",
        "outputId": "031a1621-f333-4a20-db10-d8d5b35fd2ef"
      },
      "execution_count": 17,
      "outputs": [
        {
          "output_type": "stream",
          "name": "stdout",
          "text": [
            "Trovate 10 pubblicazioni totali.\n",
            "\n",
            "«Per lavoratori del settore dell’assistenza socio-sanitaria senza disturbi muscolo-scheletrici»: una campagna di sensibilizzazione\n",
            "https://osha.europa.eu/it/publications/health-and-social-care-workers-free-musculoskeletal-disorders-awareness-campaign\n",
            "\n",
            "Card® per la movimentazione ergonomica del paziente: promozione di buone pratiche di lavoro nel settore sanitario\n",
            "https://osha.europa.eu/it/publications/ergonomic-patient-handling-cardr-promoting-good-working-practices-healthcare-sector\n",
            "\n",
            "Stabilire pratiche di lavoro ergonomiche e corrette per la schiena all’interno delle organizzazioni: il programma BGW Ergo-Coach\n",
            "https://osha.europa.eu/it/publications/establishing-ergonomic-and-back-friendly-working-practices-organisations-bgw-ergo-coach-programme\n",
            "\n",
            "Premio per le buone pratiche 2023-2025 della campagna «Ambienti di lavoro sani e sicuri»\n",
            "https://osha.europa.eu/it/publications/healthy-workplaces-good-practice-awards-2023-25\n",
            "\n",
            "Austria: OSH Pulse 2025: cambiamenti climatici e salute dei lavoratori\n",
            "https://osha.europa.eu/it/publications/austria-osh-pulse-2025-climate-change-and-worker-health\n",
            "\n",
            "Austria: OSH Pulse 2025: salute mentale e digitalizzazione sul luogo di lavoro\n",
            "https://osha.europa.eu/it/publications/austria-osh-pulse-2025-mental-health-and-digitalisation-work\n",
            "\n",
            "Belgio: OSH Pulse 2025: cambiamenti climatici e salute dei lavoratori\n",
            "https://osha.europa.eu/it/publications/belgium-osh-pulse-2025-climate-change-and-worker-health\n",
            "\n",
            "Belgio: OSH Pulse 2025: salute mentale e digitalizzazione sul luogo di lavoro\n",
            "https://osha.europa.eu/it/publications/belgium-osh-pulse-2025-mental-health-and-digitalisation-work\n",
            "\n",
            "Bulgaria: OSH Pulse 2025: cambiamenti climatici e salute dei lavoratori\n",
            "https://osha.europa.eu/it/publications/bulgaria-osh-pulse-2025-climate-change-and-worker-health\n",
            "\n",
            "Bulgaria: OSH Pulse 2025: salute mentale e digitalizzazione sul luogo di lavoro\n",
            "https://osha.europa.eu/it/publications/bulgaria-osh-pulse-2025-mental-health-and-digitalisation-work\n",
            "\n"
          ]
        }
      ]
    },
    {
      "cell_type": "code",
      "source": [
        "scrape_osha_topic(search_url, max_pages=2, output_file='osha_ai_e_lavoro.json')"
      ],
      "metadata": {
        "colab": {
          "base_uri": "https://localhost:8080/"
        },
        "id": "WBob0fuXZiwE",
        "outputId": "6bb0232f-9dcf-4926-81a0-5cfb123492b8"
      },
      "execution_count": 18,
      "outputs": [
        {
          "output_type": "stream",
          "name": "stdout",
          "text": [
            "Trovate 10 pubblicazioni totali.\n",
            "\n",
            "[1/10] Estraggo: «Per lavoratori del settore dell’assistenza socio-sanitaria senza disturbi muscolo-scheletrici»: una campagna di sensibilizzazione\n",
            " Salvato: «Per lavoratori del settore dell’assistenza socio-sanitaria senza disturbi muscolo-scheletrici»: una campagna di sensibilizzazione\n",
            "[2/10] Estraggo: Card® per la movimentazione ergonomica del paziente: promozione di buone pratiche di lavoro nel settore sanitario\n",
            " Salvato: Card® per la movimentazione ergonomica del paziente: promozione di buone pratiche di lavoro nel settore sanitario\n",
            "[3/10] Estraggo: Stabilire pratiche di lavoro ergonomiche e corrette per la schiena all’interno delle organizzazioni: il programma BGW Ergo-Coach\n",
            " Salvato: Stabilire pratiche di lavoro ergonomiche e corrette per la schiena all’interno delle organizzazioni: il programma BGW Ergo-Coach\n",
            "[4/10] Estraggo: Premio per le buone pratiche 2023-2025 della campagna «Ambienti di lavoro sani e sicuri»\n",
            " Salvato: Premio per le buone pratiche 2023-2025 della campagna «Ambienti di lavoro sani e sicuri»\n",
            "[5/10] Estraggo: Austria: OSH Pulse 2025: cambiamenti climatici e salute dei lavoratori\n",
            " Salvato: Austria: OSH Pulse 2025: cambiamenti climatici e salute dei lavoratori\n",
            "[6/10] Estraggo: Austria: OSH Pulse 2025: salute mentale e digitalizzazione sul luogo di lavoro\n",
            " Salvato: Austria: OSH Pulse 2025: salute mentale e digitalizzazione sul luogo di lavoro\n",
            "[7/10] Estraggo: Belgio: OSH Pulse 2025: cambiamenti climatici e salute dei lavoratori\n",
            " Salvato: Belgio: OSH Pulse 2025: cambiamenti climatici e salute dei lavoratori\n",
            "[8/10] Estraggo: Belgio: OSH Pulse 2025: salute mentale e digitalizzazione sul luogo di lavoro\n",
            " Salvato: Belgio: OSH Pulse 2025: salute mentale e digitalizzazione sul luogo di lavoro\n",
            "[9/10] Estraggo: Bulgaria: OSH Pulse 2025: cambiamenti climatici e salute dei lavoratori\n",
            " Salvato: Bulgaria: OSH Pulse 2025: cambiamenti climatici e salute dei lavoratori\n",
            "[10/10] Estraggo: Bulgaria: OSH Pulse 2025: salute mentale e digitalizzazione sul luogo di lavoro\n",
            " Salvato: Bulgaria: OSH Pulse 2025: salute mentale e digitalizzazione sul luogo di lavoro\n"
          ]
        }
      ]
    }
  ]
}