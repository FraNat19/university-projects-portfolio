{
  "nbformat": 4,
  "nbformat_minor": 0,
  "metadata": {
    "colab": {
      "provenance": [],
      "gpuType": "T4"
    },
    "kernelspec": {
      "name": "python3",
      "display_name": "Python 3"
    },
    "language_info": {
      "name": "python"
    },
    "accelerator": "GPU"
  },
  "cells": [
    {
      "cell_type": "markdown",
      "source": [
        "# **Homework 1 - Natali Francesco 1945581**"
      ],
      "metadata": {
        "id": "wo0Bq1TgfWQ6"
      }
    },
    {
      "cell_type": "code",
      "execution_count": null,
      "metadata": {
        "colab": {
          "base_uri": "https://localhost:8080/"
        },
        "id": "n74PUDf9Kxex",
        "outputId": "1c9e4293-96da-4c46-e3bf-ebdc7dd6df9c"
      },
      "outputs": [
        {
          "output_type": "stream",
          "name": "stdout",
          "text": [
            "   age          workclass  fnlwgt  education-num       marital-status  \\\n",
            "0   39          State-gov   77516             13        Never-married   \n",
            "1   50   Self-emp-not-inc   83311             13   Married-civ-spouse   \n",
            "2   38            Private  215646              9             Divorced   \n",
            "3   53            Private  234721              7   Married-civ-spouse   \n",
            "4   28            Private  338409             13   Married-civ-spouse   \n",
            "\n",
            "           occupation    relationship    race      sex  capital-gain  \\\n",
            "0        Adm-clerical   Not-in-family   White     Male          2174   \n",
            "1     Exec-managerial         Husband   White     Male             0   \n",
            "2   Handlers-cleaners   Not-in-family   White     Male             0   \n",
            "3   Handlers-cleaners         Husband   Black     Male             0   \n",
            "4      Prof-specialty            Wife   Black   Female             0   \n",
            "\n",
            "   capital-loss  hours-per-week  target  \n",
            "0             0              40   <=50K  \n",
            "1             0              13   <=50K  \n",
            "2             0              40   <=50K  \n",
            "3             0              40   <=50K  \n",
            "4             0              40   <=50K  \n"
          ]
        }
      ],
      "source": [
        "import pandas as pd\n",
        "import numpy as np\n",
        "from sklearn.model_selection import train_test_split\n",
        "from sklearn.ensemble import RandomForestClassifier, GradientBoostingClassifier\n",
        "from sklearn.linear_model import LogisticRegression\n",
        "from sklearn.preprocessing import StandardScaler, OneHotEncoder\n",
        "from sklearn.compose import ColumnTransformer\n",
        "from sklearn.pipeline import Pipeline\n",
        "from sklearn.impute import SimpleImputer\n",
        "from sklearn.metrics import accuracy_score, classification_report, confusion_matrix\n",
        "from sklearn.model_selection import GridSearchCV\n",
        "import matplotlib.pyplot as plt\n",
        "import seaborn as sns\n",
        "\n",
        "# Load data\n",
        "data = pd.read_csv(\"/content/data1 (2).csv\", sep=';')\n",
        "\n",
        "# Data preprocessing\n",
        "# Drop education and native-country as instructed\n",
        "df = data.drop(['education', 'native-country'], axis=1)\n",
        "print(df)"
      ]
    },
    {
      "cell_type": "code",
      "source": [
        "# Combine occupation into 5 categories\n",
        "# Define the mapping\n",
        "occupation_map = {\n",
        "    'Adm-clerical': 'Office & Professional',\n",
        "    'Exec-managerial': 'Office & Professional',\n",
        "    'Prof-specialty': 'Office & Professional',\n",
        "    'Tech-support': 'Office & Professional',\n",
        "    'Sales': 'Office & Professional',\n",
        "\n",
        "    'Craft-repair': 'Skilled Manual Labor',\n",
        "    'Machine-op-inspct': 'Skilled Manual Labor',\n",
        "    'Handlers-cleaners': 'Skilled Manual Labor',\n",
        "    'Transport-moving': 'Skilled Manual Labor',\n",
        "\n",
        "    'Other-service': 'Personal & Protective Services',\n",
        "    'Priv-house-serv': 'Personal & Protective Services',\n",
        "    'Protective-serv': 'Personal & Protective Services',\n",
        "\n",
        "    'Farming-fishing': 'Agriculture & Military',\n",
        "    'Armed-forces': 'Agriculture & Military',\n",
        "\n",
        "    '?': 'Not Specified'\n",
        "}\n",
        "\n",
        "df['occupation'] = df['occupation'].str.strip()\n",
        "# Apply the mapping\n",
        "df['occupation_grouped'] = df['occupation'].map(occupation_map)\n",
        "print(df.head())"
      ],
      "metadata": {
        "colab": {
          "base_uri": "https://localhost:8080/"
        },
        "id": "2APzu9iuOaLs",
        "outputId": "f8dd49ad-0a4a-40c5-c9ca-186dc2dd3354"
      },
      "execution_count": null,
      "outputs": [
        {
          "output_type": "stream",
          "name": "stdout",
          "text": [
            "   age          workclass  fnlwgt  education-num       marital-status  \\\n",
            "0   39          State-gov   77516             13        Never-married   \n",
            "1   50   Self-emp-not-inc   83311             13   Married-civ-spouse   \n",
            "2   38            Private  215646              9             Divorced   \n",
            "3   53            Private  234721              7   Married-civ-spouse   \n",
            "4   28            Private  338409             13   Married-civ-spouse   \n",
            "\n",
            "          occupation    relationship    race      sex  capital-gain  \\\n",
            "0       Adm-clerical   Not-in-family   White     Male          2174   \n",
            "1    Exec-managerial         Husband   White     Male             0   \n",
            "2  Handlers-cleaners   Not-in-family   White     Male             0   \n",
            "3  Handlers-cleaners         Husband   Black     Male             0   \n",
            "4     Prof-specialty            Wife   Black   Female             0   \n",
            "\n",
            "   capital-loss  hours-per-week  target     occupation_grouped  \n",
            "0             0              40   <=50K  Office & Professional  \n",
            "1             0              13   <=50K  Office & Professional  \n",
            "2             0              40   <=50K   Skilled Manual Labor  \n",
            "3             0              40   <=50K   Skilled Manual Labor  \n",
            "4             0              40   <=50K  Office & Professional  \n"
          ]
        }
      ]
    },
    {
      "cell_type": "code",
      "source": [
        "# Define target and features\n",
        "X = df.drop(['target'], axis=1)\n",
        "y = df['target'].str.strip()  # Rimuove spazi extra da target\n",
        "\n",
        "# Train-test split\n",
        "X_train, X_val, y_train, y_val = train_test_split(\n",
        "    X, y, test_size=0.3, random_state=123\n",
        ")\n",
        "\n",
        "# Identify categorical and numerical columns\n",
        "categorical_cols = X.select_dtypes(include='object').columns.tolist()\n",
        "numerical_cols = X.select_dtypes(include=['int64', 'float64']).columns.tolist()\n",
        "\n",
        "# Remove 'education' and 'native-country' if still in the list\n",
        "categorical_cols = [col for col in categorical_cols if col not in ['education', 'native-country']]\n",
        "\n",
        "# Column transformer\n",
        "preprocessor = ColumnTransformer(transformers=[\n",
        "    ('num', StandardScaler(), numerical_cols),\n",
        "    ('cat', OneHotEncoder(handle_unknown='ignore'), categorical_cols)\n",
        "])"
      ],
      "metadata": {
        "id": "6lCxR2m-Rwkm"
      },
      "execution_count": null,
      "outputs": []
    },
    {
      "cell_type": "code",
      "source": [
        "# Models to evaluate\n",
        "models = {\n",
        "    'Random Forest': RandomForestClassifier(random_state=123),\n",
        "    'Gradient Boosting': GradientBoostingClassifier(random_state=123),\n",
        "    'Logistic Regression': LogisticRegression(max_iter=1000, random_state=123)\n",
        "}\n",
        "\n",
        "# Loop over models\n",
        "for name, model in models.items():\n",
        "    clf = Pipeline(steps=[\n",
        "        ('preprocessor', preprocessor),\n",
        "        ('classifier', model)\n",
        "    ])\n",
        "\n",
        "    clf.fit(X_train, y_train)\n",
        "    y_pred = clf.predict(X_val)\n",
        "\n",
        "    print(f\"--- {name} ---\")\n",
        "    print(\"Accuracy:\", accuracy_score(y_val, y_pred))\n",
        "    print(classification_report(y_val, y_pred))\n",
        "    print(confusion_matrix(y_val, y_pred))\n",
        "    print(\"\\n\")"
      ],
      "metadata": {
        "colab": {
          "base_uri": "https://localhost:8080/"
        },
        "id": "bieS-ycuV8VP",
        "outputId": "d5de9979-80d2-4529-e852-ebb9d892befe"
      },
      "execution_count": null,
      "outputs": [
        {
          "output_type": "stream",
          "name": "stdout",
          "text": [
            "--- Random Forest ---\n",
            "Accuracy: 0.8584297266864571\n",
            "              precision    recall  f1-score   support\n",
            "\n",
            "       <=50K       0.89      0.93      0.91      7408\n",
            "        >50K       0.75      0.63      0.68      2361\n",
            "\n",
            "    accuracy                           0.86      9769\n",
            "   macro avg       0.82      0.78      0.80      9769\n",
            "weighted avg       0.85      0.86      0.85      9769\n",
            "\n",
            "[[6905  503]\n",
            " [ 880 1481]]\n",
            "\n",
            "\n",
            "--- Gradient Boosting ---\n",
            "Accuracy: 0.8671307196232982\n",
            "              precision    recall  f1-score   support\n",
            "\n",
            "       <=50K       0.89      0.95      0.92      7408\n",
            "        >50K       0.79      0.61      0.69      2361\n",
            "\n",
            "    accuracy                           0.87      9769\n",
            "   macro avg       0.84      0.78      0.80      9769\n",
            "weighted avg       0.86      0.87      0.86      9769\n",
            "\n",
            "[[7022  386]\n",
            " [ 912 1449]]\n",
            "\n",
            "\n",
            "--- Logistic Regression ---\n",
            "Accuracy: 0.8547446002661481\n",
            "              precision    recall  f1-score   support\n",
            "\n",
            "       <=50K       0.88      0.94      0.91      7408\n",
            "        >50K       0.75      0.59      0.66      2361\n",
            "\n",
            "    accuracy                           0.85      9769\n",
            "   macro avg       0.82      0.77      0.79      9769\n",
            "weighted avg       0.85      0.85      0.85      9769\n",
            "\n",
            "[[6952  456]\n",
            " [ 963 1398]]\n",
            "\n",
            "\n"
          ]
        }
      ]
    },
    {
      "cell_type": "code",
      "source": [
        "# Now search optimal hyperparameters for each model"
      ],
      "metadata": {
        "id": "E6fIUOv1Xql_"
      },
      "execution_count": null,
      "outputs": []
    },
    {
      "cell_type": "code",
      "source": [
        "# Random Forest\n",
        "param_grid_rf = {\n",
        "    'classifier__n_estimators': [100, 200],\n",
        "    'classifier__max_depth': [None, 10, 20],\n",
        "    'classifier__min_samples_split': [2, 5]\n",
        "}\n",
        "\n",
        "rf_pipeline = Pipeline(steps=[\n",
        "    ('preprocessor', preprocessor),\n",
        "    ('classifier', RandomForestClassifier(random_state=123))\n",
        "])\n",
        "\n",
        "grid_rf = GridSearchCV(rf_pipeline, param_grid_rf, cv=3, n_jobs=-1, scoring='accuracy')\n",
        "grid_rf.fit(X_train, y_train)\n",
        "\n",
        "print(\"Best RF parameters:\", grid_rf.best_params_)\n",
        "print(\"Best RF score:\", grid_rf.best_score_)"
      ],
      "metadata": {
        "colab": {
          "base_uri": "https://localhost:8080/"
        },
        "id": "VTV_8M3uX9hX",
        "outputId": "e2ea5c26-ca5d-458f-b63b-b84691653a83"
      },
      "execution_count": null,
      "outputs": [
        {
          "output_type": "stream",
          "name": "stdout",
          "text": [
            "Best RF parameters: {'classifier__max_depth': 20, 'classifier__min_samples_split': 5, 'classifier__n_estimators': 100}\n",
            "Best RF score: 0.8631097701859726\n"
          ]
        }
      ]
    },
    {
      "cell_type": "code",
      "source": [
        "# Gradient Boosting\n",
        "param_grid_gb = {\n",
        "    'classifier__n_estimators': [100, 200],\n",
        "    'classifier__learning_rate': [0.1, 0.05],\n",
        "    'classifier__max_depth': [3, 5]\n",
        "}\n",
        "\n",
        "gb_pipeline = Pipeline(steps=[\n",
        "    ('preprocessor', preprocessor),\n",
        "    ('classifier', GradientBoostingClassifier(random_state=123))\n",
        "])\n",
        "\n",
        "grid_gb = GridSearchCV(gb_pipeline, param_grid_gb, cv=3, n_jobs=-1, scoring='accuracy')\n",
        "grid_gb.fit(X_train, y_train)\n",
        "\n",
        "print(\"Best GB parameters:\", grid_gb.best_params_)\n",
        "print(\"Best GB score:\", grid_gb.best_score_)"
      ],
      "metadata": {
        "colab": {
          "base_uri": "https://localhost:8080/"
        },
        "id": "g8mpwB7rYCxX",
        "outputId": "5313306a-0710-4a2c-878b-12b961dcd0ef"
      },
      "execution_count": null,
      "outputs": [
        {
          "output_type": "stream",
          "name": "stdout",
          "text": [
            "Best GB parameters: {'classifier__learning_rate': 0.1, 'classifier__max_depth': 3, 'classifier__n_estimators': 200}\n",
            "Best GB score: 0.8728061818687776\n"
          ]
        }
      ]
    },
    {
      "cell_type": "code",
      "source": [
        "# Logistic Regression\n",
        "param_grid_lr = {\n",
        "    'classifier__C': [0.01, 0.1, 1, 10],\n",
        "    'classifier__penalty': ['l2'],\n",
        "    'classifier__solver': ['lbfgs']\n",
        "}\n",
        "\n",
        "lr_pipeline = Pipeline(steps=[\n",
        "    ('preprocessor', preprocessor),\n",
        "    ('classifier', LogisticRegression(max_iter=1000, random_state=123))\n",
        "])\n",
        "\n",
        "grid_lr = GridSearchCV(lr_pipeline, param_grid_lr, cv=3, n_jobs=-1, scoring='accuracy')\n",
        "grid_lr.fit(X_train, y_train)\n",
        "\n",
        "print(\"Best LR parameters:\", grid_lr.best_params_)\n",
        "print(\"Best LR score:\", grid_lr.best_score_)"
      ],
      "metadata": {
        "colab": {
          "base_uri": "https://localhost:8080/"
        },
        "id": "eHExe_ROYIMK",
        "outputId": "38fa7a8b-2426-4619-f7d9-4de1fc4e7b5c"
      },
      "execution_count": null,
      "outputs": [
        {
          "output_type": "stream",
          "name": "stdout",
          "text": [
            "Best LR parameters: {'classifier__C': 1, 'classifier__penalty': 'l2', 'classifier__solver': 'lbfgs'}\n",
            "Best LR score: 0.851263502519299\n"
          ]
        }
      ]
    },
    {
      "cell_type": "code",
      "source": [
        "# Best model result is obtained with GB"
      ],
      "metadata": {
        "id": "BVFOB9DMexJg"
      },
      "execution_count": null,
      "outputs": []
    }
  ]
}