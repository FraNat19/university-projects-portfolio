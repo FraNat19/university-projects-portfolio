{
  "nbformat": 4,
  "nbformat_minor": 0,
  "metadata": {
    "colab": {
      "provenance": [],
      "gpuType": "T4",
      "gpuClass": "premium"
    },
    "kernelspec": {
      "display_name": "Python 3",
      "name": "python3"
    },
    "language_info": {
      "codemirror_mode": {
        "name": "ipython",
        "version": 3
      },
      "file_extension": ".py",
      "mimetype": "text/x-python",
      "name": "python",
      "nbconvert_exporter": "python",
      "pygments_lexer": "ipython3",
      "version": "3.7.0"
    },
    "accelerator": "GPU"
  },
  "cells": [
    {
      "cell_type": "markdown",
      "metadata": {
        "id": "a4lft5IPK9eW"
      },
      "source": [
        "## Training an image classifier from scratch on the Cats vs Dogs dataset."
      ]
    },
    {
      "cell_type": "markdown",
      "metadata": {
        "id": "Z_eSbAM3K9ea"
      },
      "source": [
        "## Introduction\n",
        "\n",
        "This example shows how to do image classification from scratch, starting from JPEG\n",
        "image files on disk, without leveraging pre-trained weights or a pre-made Keras\n",
        "Application model. We demonstrate the workflow on the Kaggle Cats vs Dogs binary\n",
        " classification dataset.\n",
        "\n",
        "We use the `image_dataset_from_directory` utility to generate the datasets, and\n",
        "we use Keras image preprocessing layers for image standardization and data augmentation.\n"
      ]
    },
    {
      "cell_type": "markdown",
      "metadata": {
        "id": "dGjAuC9iK9eb"
      },
      "source": [
        "## Setup\n"
      ]
    },
    {
      "cell_type": "code",
      "metadata": {
        "id": "i-eR3_RIK9eb"
      },
      "source": [
        "import tensorflow as tf\n",
        "from tensorflow import keras\n",
        "from tensorflow.keras import layers\n",
        "from tensorflow.keras.preprocessing import image_dataset_from_directory\n",
        "from tensorflow.keras.preprocessing.image import load_img, ImageDataGenerator"
      ],
      "execution_count": null,
      "outputs": []
    },
    {
      "cell_type": "markdown",
      "metadata": {
        "id": "Cms3v2L9K9eb"
      },
      "source": [
        "## Load the data: the Cats vs Dogs dataset\n",
        "\n",
        "### Raw data download\n",
        "\n",
        "First, let's download the 786M ZIP archive of the raw data:\n"
      ]
    },
    {
      "cell_type": "code",
      "metadata": {
        "id": "mAA8sNGCK9ec"
      },
      "source": [
        "!curl -O https://download.microsoft.com/download/3/E/1/3E1C3F21-ECDB-4869-8368-6DEBA77B919F/kagglecatsanddogs_5340.zip\n"
      ],
      "execution_count": null,
      "outputs": []
    },
    {
      "cell_type": "code",
      "metadata": {
        "id": "Xzn8l8jzK9ec"
      },
      "source": [
        "!unzip -q kagglecatsanddogs_5340.zip\n",
        "!ls"
      ],
      "execution_count": null,
      "outputs": []
    },
    {
      "cell_type": "markdown",
      "metadata": {
        "id": "1d3nODiJK9ec"
      },
      "source": [
        "Now we have a `PetImages` folder which contain two subfolders, `Cat` and `Dog`. Each\n",
        " subfolder contains image files for each category.\n"
      ]
    },
    {
      "cell_type": "markdown",
      "metadata": {
        "id": "ei9U2c4yK9ed"
      },
      "source": [
        "### Filter out corrupted images\n",
        "\n",
        "When working with lots of real-world image data, corrupted images are a common\n",
        "occurence. Let's filter out badly-encoded images that do not feature the string \"JFIF\"\n",
        " in their header.\n"
      ]
    },
    {
      "cell_type": "code",
      "metadata": {
        "id": "uSyQ0GBRK9ed"
      },
      "source": [
        "import os\n",
        "\n",
        "num_skipped = 0\n",
        "for folder_name in (\"Cat\", \"Dog\"):\n",
        "    folder_path = os.path.join(\"PetImages\", folder_name)\n",
        "    for fname in os.listdir(folder_path):\n",
        "        fpath = os.path.join(folder_path, fname)\n",
        "        try:\n",
        "            fobj = open(fpath, \"rb\")\n",
        "            is_jfif = tf.compat.as_bytes(\"JFIF\") in fobj.peek(10)\n",
        "        finally:\n",
        "            fobj.close()\n",
        "\n",
        "        if not is_jfif:\n",
        "            num_skipped += 1\n",
        "            # Delete corrupted image\n",
        "            os.remove(fpath)\n",
        "\n",
        "print(\"Deleted %d images\" % num_skipped)\n"
      ],
      "execution_count": null,
      "outputs": []
    },
    {
      "cell_type": "code",
      "metadata": {
        "id": "3e4eS2JUSj2p"
      },
      "source": [
        "# load the image\n",
        "import matplotlib.pyplot as plt\n",
        "\n",
        "for h in range(10000,10004,1):\n",
        "  img = load_img('PetImages/Cat/'+str(h)+'.jpg')\n",
        "  plt.imshow(img)\n",
        "  plt.show()\n"
      ],
      "execution_count": null,
      "outputs": []
    },
    {
      "cell_type": "markdown",
      "metadata": {
        "id": "3yPKXrEZK9ee"
      },
      "source": [
        "## Using image data augmentation\n",
        "\n",
        "When you don't have a large image dataset, it's a good practice to artificially\n",
        "introduce sample diversity by applying random yet realistic transformations to the\n",
        "training images, such as random horizontal flipping or small random rotations. This\n",
        "helps expose the model to different aspects of the training data while slowing down\n",
        " overfitting.\n"
      ]
    },
    {
      "cell_type": "markdown",
      "metadata": {
        "id": "2RTPqEiQK9ed"
      },
      "source": [
        "## Generate the Train and the Validation datasets\n",
        "## with data augmentation\n"
      ]
    },
    {
      "cell_type": "code",
      "metadata": {
        "id": "0dG1TTRAcvrV"
      },
      "source": [
        "image_size = (180, 180)\n",
        "\n",
        "datagen = ImageDataGenerator( rescale=1./255,\n",
        "        rotation_range=3,  # randomly rotate images in the range (degrees, 0 to 180)\n",
        "        zoom_range = 0.01, # Randomly zoom image\n",
        "        width_shift_range=0.01,  # randomly shift images horizontally (fraction of total width)\n",
        "        height_shift_range=0.01,  # randomly shift images vertically (fraction of total height)\n",
        "        horizontal_flip=True,  # randomly flip images\n",
        "        validation_split=0.2)  # validation split\n",
        "train_ds = datagen.flow_from_directory(\n",
        "        \"PetImages\", target_size=image_size, color_mode='rgb', class_mode='categorical',\n",
        "         batch_size=64, shuffle=True, seed=13,\n",
        "        subset='training')\n",
        "val_ds = datagen.flow_from_directory(\n",
        "        \"PetImages\", target_size=image_size, color_mode='rgb', class_mode='categorical',\n",
        "         batch_size=64, seed=13,\n",
        "        subset='validation')"
      ],
      "execution_count": null,
      "outputs": []
    },
    {
      "cell_type": "markdown",
      "metadata": {
        "id": "Q-GjsY1zK9ed"
      },
      "source": [
        "## Visualize the data\n",
        "\n",
        "Here are the first 16 images in the training dataset. As you can see, label 1 is \"dog\" and label 0 is \"cat\".\n"
      ]
    },
    {
      "cell_type": "code",
      "metadata": {
        "id": "riMEYuSkK9ee"
      },
      "source": [
        "import matplotlib.pyplot as plt\n",
        "\n",
        "plt.figure(figsize=(11, 11))\n",
        "images=train_ds[0][0]\n",
        "labels=train_ds[0][1]\n",
        "for i in range(16):\n",
        "        ax = plt.subplot(4, 4, i + 1)\n",
        "        plt.imshow(images[i].astype(\"float32\"))\n",
        "#        print(i,labels[i][1])\n",
        "        plt.title(labels[i][1])\n",
        "        plt.axis(\"off\")\n"
      ],
      "execution_count": null,
      "outputs": []
    },
    {
      "cell_type": "markdown",
      "metadata": {
        "id": "6matRlLwK9ef"
      },
      "source": [
        "## Build a model\n",
        "\n",
        "We'll build a small version of the Xception network. We haven't particularly tried to\n",
        "optimize the architecture; if you want to do a systematic search for the best model\n",
        " configuration, consider using\n",
        "[Keras Tuner](https://github.com/keras-team/keras-tuner).\n"
      ]
    },
    {
      "cell_type": "code",
      "metadata": {
        "id": "k0PdGgoFK9eg"
      },
      "source": [
        "from tensorflow.keras.layers import InputLayer, Input, BatchNormalization\n",
        "from tensorflow.keras.layers import Reshape, MaxPooling2D\n",
        "from tensorflow.keras.layers import Conv2D, Dense, Flatten, Dropout\n",
        "from tensorflow.keras.models import Model\n",
        "from tensorflow.keras.utils import plot_model\n",
        "\n",
        "inp = Input((180,180,3))\n",
        "x = Conv2D(32,(5,5),activation='relu',input_shape=(180,180,3))(inp)\n",
        "x = BatchNormalization()(x)\n",
        "x = MaxPooling2D()(x)\n",
        "x = Dropout(0.2)(x)\n",
        "x = Conv2D(32,(3,3),activation='relu')(x)\n",
        "x = BatchNormalization()(x)\n",
        "x = MaxPooling2D()(x)\n",
        "x = Dropout(0.2)(x)\n",
        "x = Conv2D(16,(3,3),activation='relu')(x)\n",
        "x = BatchNormalization()(x)\n",
        "x = MaxPooling2D()(x)\n",
        "x = Dropout(0.2)(x)\n",
        "x = Flatten()(x)\n",
        "x= Dense(128,activation='relu')(x)\n",
        "x= BatchNormalization()(x)\n",
        "x = Dropout(0.3)(x)\n",
        "out = Dense(2,activation='softmax')(x)\n",
        "model = Model(inp,out)\n",
        "model.compile(loss='categorical_crossentropy', optimizer='adam',metrics=['accuracy'])\n",
        "\n",
        "model.summary()"
      ],
      "execution_count": null,
      "outputs": []
    },
    {
      "cell_type": "code",
      "source": [
        "plot_model(model, show_shapes=True)"
      ],
      "metadata": {
        "id": "5dup4X8omgzC"
      },
      "execution_count": null,
      "outputs": []
    },
    {
      "cell_type": "markdown",
      "metadata": {
        "id": "Hrw1dntyK9eg"
      },
      "source": [
        "## Train the model\n"
      ]
    },
    {
      "cell_type": "code",
      "metadata": {
        "id": "X-AGQYgFK9eg"
      },
      "source": [
        "history = model.fit(train_ds, epochs=10, validation_data=val_ds)"
      ],
      "execution_count": null,
      "outputs": []
    },
    {
      "cell_type": "markdown",
      "metadata": {
        "id": "GjA3LZp8K9eg"
      },
      "source": [
        "### We can obtain to >90% validation accuracy\n"
      ]
    },
    {
      "cell_type": "markdown",
      "metadata": {
        "id": "5k_A3MNZK9eg"
      },
      "source": [
        "## Run inference on new data\n",
        "\n",
        "Note that data augmentation and dropout are inactive at inference time.\n"
      ]
    },
    {
      "cell_type": "code",
      "metadata": {
        "id": "jFGXQCNyK9eg"
      },
      "source": [
        "import numpy as np\n",
        "img = load_img('cane.jpg', target_size=(180,180))\n",
        "A = keras.preprocessing.image.img_to_array(img)/255.\n",
        "B = A.reshape(1,180,180,3)\n",
        "my_prediction = model.predict(B)\n",
        "np.set_printoptions(suppress=True,precision=4)\n",
        "print(\"Your algorithm predicts\",  my_prediction)\n"
      ],
      "execution_count": null,
      "outputs": []
    }
  ]
}