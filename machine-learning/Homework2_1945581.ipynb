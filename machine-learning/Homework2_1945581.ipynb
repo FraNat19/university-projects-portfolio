{
  "nbformat": 4,
  "nbformat_minor": 0,
  "metadata": {
    "colab": {
      "provenance": []
    },
    "kernelspec": {
      "name": "python3",
      "display_name": "Python 3"
    },
    "language_info": {
      "name": "python"
    }
  },
  "cells": [
    {
      "cell_type": "markdown",
      "source": [
        "We start the analysis by importing the libraries and loading the dataset. We understand that this dataset has 31 variables and 45401 units.\n"
      ],
      "metadata": {
        "id": "3Jmt8D86R5KN"
      }
    },
    {
      "cell_type": "code",
      "execution_count": 20,
      "metadata": {
        "colab": {
          "base_uri": "https://localhost:8080/"
        },
        "id": "o-ImPfVLR12k",
        "outputId": "90f2679e-2581-419f-e4cc-70bc10cc21f9"
      },
      "outputs": [
        {
          "output_type": "stream",
          "name": "stdout",
          "text": [
            "Number of variables: 31\n",
            "Number of units: 45401\n"
          ]
        }
      ],
      "source": [
        "import pandas as pd\n",
        "from sklearn.model_selection import train_test_split\n",
        "from tensorflow.keras.models import Sequential\n",
        "from tensorflow.keras.layers import Dense\n",
        "from sklearn.metrics import classification_report, roc_auc_score, recall_score\n",
        "from sklearn.metrics import roc_auc_score\n",
        "\n",
        "# Load data\n",
        "data = pd.read_csv(\"/content/dati30.csv\")\n",
        "\n",
        "# Get the number of variables (columns)\n",
        "num_variables = len(data.columns)\n",
        "# Get the number of units (rows)\n",
        "num_units = data.shape[0]\n",
        "\n",
        "# Print the results\n",
        "print(\"Number of variables:\", num_variables)\n",
        "print(\"Number of units:\", num_units)"
      ]
    },
    {
      "cell_type": "markdown",
      "source": [
        "\n",
        "The training set will be formed by the first 30 features and the training part will be given by the last binary variable. Also check if there is missing value\n"
      ],
      "metadata": {
        "id": "gRJK2zaZSgoW"
      }
    },
    {
      "cell_type": "code",
      "source": [
        "  # Separate features and target variable\n",
        "  X = data.iloc[:, :-1]\n",
        "  y = data.iloc[:, -1]\n",
        "\n",
        ""
      ],
      "metadata": {
        "id": "ku72BwbeSg4Z"
      },
      "execution_count": 21,
      "outputs": []
    },
    {
      "cell_type": "markdown",
      "source": [
        "\n",
        "To carry out the evaluation, split the data following 70-30 ratio\n"
      ],
      "metadata": {
        "id": "BIfnwkb1TW4l"
      }
    },
    {
      "cell_type": "code",
      "source": [
        "  X_train, X_test, y_train, y_test = train_test_split(X, y, test_size=0.3, random_state=42)\n",
        "\n",
        "  # Define the neural network model\n",
        "  model = Sequential()\n",
        "  model.add(Dense(units=32, activation='relu', input_dim=X_train.shape[1]))\n",
        "  model.add(Dense(units=16, activation='relu'))\n",
        "  model.add(Dense(units=1, activation='sigmoid'))\n",
        "\n",
        "  # Compile the model\n",
        "  model.compile(loss='binary_crossentropy', optimizer='adam', metrics=['accuracy'])\n",
        "\n",
        "  # Train the model\n",
        "  model.fit(X_train, y_train, epochs=10, validation_data=(X_test, y_test), batch_size=32)"
      ],
      "metadata": {
        "colab": {
          "base_uri": "https://localhost:8080/"
        },
        "id": "elXR1EWGTtAB",
        "outputId": "186feccd-07bd-41da-e58f-2fbf7e396cb2"
      },
      "execution_count": 22,
      "outputs": [
        {
          "output_type": "stream",
          "name": "stdout",
          "text": [
            "Epoch 1/10\n",
            "994/994 [==============================] - 4s 3ms/step - loss: 0.0660 - accuracy: 0.9915 - val_loss: 0.0026 - val_accuracy: 0.9995\n",
            "Epoch 2/10\n",
            "994/994 [==============================] - 3s 3ms/step - loss: 0.0020 - accuracy: 0.9997 - val_loss: 7.4382e-04 - val_accuracy: 0.9999\n",
            "Epoch 3/10\n",
            "994/994 [==============================] - 3s 3ms/step - loss: 0.0014 - accuracy: 0.9998 - val_loss: 6.0081e-04 - val_accuracy: 0.9999\n",
            "Epoch 4/10\n",
            "994/994 [==============================] - 2s 2ms/step - loss: 5.9452e-04 - accuracy: 0.9999 - val_loss: 2.7572e-04 - val_accuracy: 0.9999\n",
            "Epoch 5/10\n",
            "994/994 [==============================] - 3s 3ms/step - loss: 4.5156e-04 - accuracy: 0.9998 - val_loss: 2.7314e-04 - val_accuracy: 0.9999\n",
            "Epoch 6/10\n",
            "994/994 [==============================] - 4s 4ms/step - loss: 0.0010 - accuracy: 0.9997 - val_loss: 3.0603e-04 - val_accuracy: 0.9999\n",
            "Epoch 7/10\n",
            "994/994 [==============================] - 2s 3ms/step - loss: 3.4804e-04 - accuracy: 0.9999 - val_loss: 1.9815e-04 - val_accuracy: 0.9999\n",
            "Epoch 8/10\n",
            "994/994 [==============================] - 2s 2ms/step - loss: 5.4216e-04 - accuracy: 0.9998 - val_loss: 0.0104 - val_accuracy: 0.9966\n",
            "Epoch 9/10\n",
            "994/994 [==============================] - 2s 2ms/step - loss: 3.1792e-04 - accuracy: 0.9999 - val_loss: 0.0052 - val_accuracy: 0.9981\n",
            "Epoch 10/10\n",
            "994/994 [==============================] - 2s 2ms/step - loss: 5.6091e-05 - accuracy: 1.0000 - val_loss: 1.6416e-04 - val_accuracy: 0.9999\n"
          ]
        },
        {
          "output_type": "execute_result",
          "data": {
            "text/plain": [
              "<keras.src.callbacks.History at 0x7c2ca451e5c0>"
            ]
          },
          "metadata": {},
          "execution_count": 22
        }
      ]
    },
    {
      "cell_type": "markdown",
      "source": [
        "Now vauate the accuracy, the sensitivity and the AUC, where the last one is the area under the ROC curve."
      ],
      "metadata": {
        "id": "6bo8C_BrU645"
      }
    },
    {
      "cell_type": "code",
      "source": [
        "  # Evaluate the model on test data\n",
        "  predictions = model.predict(X_test)\n",
        "  predictions = (predictions > 0.5).astype(int)\n",
        "\n",
        "  accuracy = accuracy_score(y_test, predictions)\n",
        "  sensitivity = recall_score(y_test, predictions)\n",
        "  auc = roc_auc_score(y_test, predictions)"
      ],
      "metadata": {
        "colab": {
          "base_uri": "https://localhost:8080/"
        },
        "id": "kiS0aWv0U7G2",
        "outputId": "ce85855f-8335-46dd-e10c-81ff263558c5"
      },
      "execution_count": 23,
      "outputs": [
        {
          "output_type": "stream",
          "name": "stdout",
          "text": [
            "426/426 [==============================] - 1s 1ms/step\n"
          ]
        }
      ]
    },
    {
      "cell_type": "markdown",
      "source": [
        "Print and look at the result that we've obtained."
      ],
      "metadata": {
        "id": "2z6aZT70Vk27"
      }
    },
    {
      "cell_type": "code",
      "source": [
        "  # Print evaluation metrics\n",
        "  print(\"Accuracy:\", accuracy)\n",
        "  print(\"Sensitivity (Recall):\", sensitivity)\n",
        "  print(\"AUC:\", auc)"
      ],
      "metadata": {
        "colab": {
          "base_uri": "https://localhost:8080/"
        },
        "id": "xzetX5C8VlDs",
        "outputId": "2fa152cd-cde4-4591-e7fd-9ef2e2fc2e9f"
      },
      "execution_count": 24,
      "outputs": [
        {
          "output_type": "stream",
          "name": "stdout",
          "text": [
            "Accuracy: 0.9999265839512518\n",
            "Sensitivity (Recall): 0.996742671009772\n",
            "AUC: 0.998371335504886\n"
          ]
        }
      ]
    },
    {
      "cell_type": "markdown",
      "source": [
        "As we can see have an high accuracy, this represents the proportion of correctly classified samples out of the total number of samples. Also we have an high value for sensitivity, which indicates that the model is good at identifying true positives, so we can say that he model correctly identifies 99,6% of the samples from the actual positive class. About the values for the AUC which measures the overall performance of the model across various thresholds, and is the area under the ROC curve are high, so the model has an excellent overall ability (99,8%) to discriminate between positive and negative classes, which is important for a balanced approach between avoiding false negatives and false positives."
      ],
      "metadata": {
        "id": "gQ--M2YbkKD4"
      }
    }
  ]
}