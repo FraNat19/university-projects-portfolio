{
  "nbformat": 4,
  "nbformat_minor": 0,
  "metadata": {
    "colab": {
      "provenance": [],
      "gpuType": "T4"
    },
    "kernelspec": {
      "name": "python3",
      "display_name": "Python 3"
    },
    "language_info": {
      "name": "python"
    },
    "accelerator": "GPU"
  },
  "cells": [
    {
      "cell_type": "markdown",
      "source": [
        "# **Homework 2 - BDA**\n",
        "### **Francesco Natali 1945581**\n",
        "\n",
        "The goal is build a feed-forward neural network to predict whether a person earns > 50 K USD, using the same data and preprocessing rules from Homework B1."
      ],
      "metadata": {
        "id": "JS2sKUR61neg"
      }
    },
    {
      "cell_type": "code",
      "execution_count": 34,
      "metadata": {
        "id": "hi1PvqUrulmd"
      },
      "outputs": [],
      "source": [
        "# Import necessary libraries for data manipulation, preprocessing, modeling, and evaluation.\n",
        "import pandas as pd\n",
        "import pandas as pd\n",
        "import numpy as np\n",
        "import tensorflow as tf\n",
        "import matplotlib.pyplot as plt\n",
        "import warnings\n",
        "from sklearn.model_selection import train_test_split, ParameterGrid\n",
        "from sklearn.preprocessing import StandardScaler, OneHotEncoder\n",
        "from sklearn.compose import ColumnTransformer\n",
        "from sklearn.metrics import accuracy_score, classification_report, confusion_matrix\n",
        "from tensorflow.keras.models import Sequential\n",
        "from tensorflow.keras.layers import Dense, Dropout\n",
        "from tensorflow.keras.optimizers import Adam\n",
        "from tensorflow.keras.callbacks import EarlyStopping\n",
        "\n",
        "tf.random.set_seed(123)\n",
        "np.random.seed(123)"
      ]
    },
    {
      "cell_type": "markdown",
      "source": [
        "Occupational categories are reclassified into five broader groups to reduce complexity and facilitate modeling."
      ],
      "metadata": {
        "id": "26ILFojI12mX"
      }
    },
    {
      "cell_type": "code",
      "source": [
        "# Load data\n",
        "data = pd.read_csv(\"/content/data1 (2).csv\", sep=';')\n",
        "\n",
        "# Drop education and native-country as instructed\n",
        "df = data.drop(['education', 'native-country'], axis=1)\n",
        "\n",
        "# Combine occupation into 5 categories\n",
        "# Define the mapping\n",
        "occupation_map = {\n",
        "    # Group 1: Office-based and technical roles\n",
        "    'Adm-clerical': 'Office & Tech Roles',\n",
        "    'Exec-managerial': 'Office & Tech Roles',\n",
        "    'Prof-specialty': 'Office & Tech Roles',\n",
        "    'Tech-support': 'Office & Tech Roles',\n",
        "\n",
        "    # Group 2: Sales and personal services\n",
        "    'Sales': 'Sales & Personal Services',\n",
        "    'Other-service': 'Sales & Personal Services',\n",
        "    'Priv-house-serv': 'Sales & Personal Services',\n",
        "\n",
        "    # Group 3: Technical and mechanical Work\n",
        "    'Craft-repair': 'Technical & Mechanical Work',\n",
        "    'Machine-op-inspct': 'Technical & Mechanical Work',\n",
        "    'Handlers-cleaners': 'Technical & Mechanical Work',\n",
        "    'Transport-moving': 'Technical & Mechanical Work',\n",
        "\n",
        "    # Group 4: Agriculture and military\n",
        "    'Farming-fishing': 'Agriculture & Military',\n",
        "    'Armed-Forces': 'Agriculture & Military',\n",
        "\n",
        "    # Group 5: Security and protective services\n",
        "    'Protective-serv': 'Security & Protection'\n",
        "}\n",
        "\n",
        "# First removes space\n",
        "df['occupation'] = df['occupation'].str.strip()\n",
        "# Remove rows where occupation is '?'\n",
        "df = df[df['occupation'] != '?']\n",
        "# Apply the mapping\n",
        "df['occupation_grouped'] = df['occupation'].map(occupation_map)\n",
        "print(df.head())"
      ],
      "metadata": {
        "colab": {
          "base_uri": "https://localhost:8080/"
        },
        "id": "jwvD0V-fxiE3",
        "outputId": "ca8a1d88-6e3e-415e-ed93-c6f69ee6284b"
      },
      "execution_count": 36,
      "outputs": [
        {
          "output_type": "stream",
          "name": "stdout",
          "text": [
            "   age          workclass  fnlwgt  education-num       marital-status  \\\n",
            "0   39          State-gov   77516             13        Never-married   \n",
            "1   50   Self-emp-not-inc   83311             13   Married-civ-spouse   \n",
            "2   38            Private  215646              9             Divorced   \n",
            "3   53            Private  234721              7   Married-civ-spouse   \n",
            "4   28            Private  338409             13   Married-civ-spouse   \n",
            "\n",
            "          occupation    relationship    race      sex  capital-gain  \\\n",
            "0       Adm-clerical   Not-in-family   White     Male          2174   \n",
            "1    Exec-managerial         Husband   White     Male             0   \n",
            "2  Handlers-cleaners   Not-in-family   White     Male             0   \n",
            "3  Handlers-cleaners         Husband   Black     Male             0   \n",
            "4     Prof-specialty            Wife   Black   Female             0   \n",
            "\n",
            "   capital-loss  hours-per-week  target           occupation_grouped  \n",
            "0             0              40   <=50K          Office & Tech Roles  \n",
            "1             0              13   <=50K          Office & Tech Roles  \n",
            "2             0              40   <=50K  Technical & Mechanical Work  \n",
            "3             0              40   <=50K  Technical & Mechanical Work  \n",
            "4             0              40   <=50K          Office & Tech Roles  \n"
          ]
        }
      ]
    },
    {
      "cell_type": "markdown",
      "source": [
        "Create the binary label, split the data 70 / 30 (seed 123), then build a pipeline that standardises numeric columns and one-hot-encodes categoricals before feeding them to the model."
      ],
      "metadata": {
        "id": "rOhkeGMj2Aer"
      }
    },
    {
      "cell_type": "code",
      "source": [
        "# Features & label  (label as float32)\n",
        "X = df.drop(['target'], axis=1)\n",
        "y = (df['target'].str.strip()\n",
        "                 .map({'>50K':1,'<=50K':0})\n",
        "                 .astype('float32'))\n",
        "\n",
        "# Train / validation split 70-30, seed 123\n",
        "X_train, X_val, y_train, y_val = train_test_split(\n",
        "    X, y, test_size=0.30, random_state=123, stratify=y\n",
        ")\n",
        "\n",
        "# Column transformer: scale numeric, one-hot categorical\n",
        "categorical_cols = X.select_dtypes(include='object').columns.tolist()\n",
        "numerical_cols   = X.select_dtypes(include=['int64','float64']).columns.tolist()\n",
        "\n",
        "preprocessor = ColumnTransformer([\n",
        "    ('num', StandardScaler(), numerical_cols),\n",
        "    ('cat', OneHotEncoder(handle_unknown='ignore', sparse_output=False), categorical_cols)\n",
        "])\n",
        "\n",
        "X_train_p = preprocessor.fit_transform(X_train)\n",
        "X_val_p   = preprocessor.transform(X_val)\n",
        "\n",
        "# Verify split sizes\n",
        "print(\"Training set size:\", X_train.shape)\n",
        "print(\"Validation set size:\", X_val.shape)"
      ],
      "metadata": {
        "colab": {
          "base_uri": "https://localhost:8080/"
        },
        "id": "33080l9A18Nx",
        "outputId": "d082d9be-4fc3-4f90-e721-0dbd9134f8f7"
      },
      "execution_count": 37,
      "outputs": [
        {
          "output_type": "stream",
          "name": "stdout",
          "text": [
            "Training set size: (21502, 13)\n",
            "Validation set size: (9216, 13)\n"
          ]
        }
      ]
    },
    {
      "cell_type": "markdown",
      "source": [
        "Now defines a 4-layer dense network with dropout, compiles it (binary-cross-entropy + accuracy), and will later be trained on the train set and scored on the validation set with accuracy, full classification report, and confusion matrix."
      ],
      "metadata": {
        "id": "DvmPI3Zx2KlR"
      }
    },
    {
      "cell_type": "code",
      "source": [
        "# Function to create feedforward neural network model\n",
        "def create_fnn_model(input_dim,\n",
        "                     units=[64, 32, 16, 8],\n",
        "                     dropout_rate=0.2,\n",
        "                     learning_rate=0.001):\n",
        "    \"\"\"Return a compiled feed-forward neural network.\"\"\"\n",
        "    model = Sequential()\n",
        "    model.add(Dense(units[0], activation='relu', input_shape=(input_dim,)))\n",
        "    model.add(Dropout(dropout_rate))\n",
        "    model.add(Dense(units[1], activation='relu')); model.add(Dropout(dropout_rate))\n",
        "    model.add(Dense(units[2], activation='relu')); model.add(Dropout(dropout_rate))\n",
        "    model.add(Dense(units[3], activation='relu')); model.add(Dropout(dropout_rate))\n",
        "    model.add(Dense(1, activation='sigmoid'))\n",
        "    model.compile(\n",
        "        optimizer=Adam(learning_rate=learning_rate),\n",
        "        loss='binary_crossentropy',\n",
        "        metrics=['accuracy']\n",
        "    )\n",
        "    return model"
      ],
      "metadata": {
        "id": "eGMmyUnhvDJO"
      },
      "execution_count": 38,
      "outputs": []
    },
    {
      "cell_type": "markdown",
      "source": [
        "Now run Hyper-parameter grid search with EarlyStopping; saves the model that hits the top val accuracy."
      ],
      "metadata": {
        "id": "P8wpQnDQ4sAM"
      }
    },
    {
      "cell_type": "code",
      "source": [
        "# Grid of values to explore\n",
        "param_grid = {\n",
        "    'learning_rate': [0.001, 0.01],\n",
        "    'dropout_rate' : [0.2, 0.3],\n",
        "    'units'        : [[64, 32, 16, 8], [128, 64, 32, 16]],\n",
        "    'batch_size'   : [32, 64]\n",
        "}\n",
        "\n",
        "# Early-stopping callback (stop after 5 stagnant epochs)\n",
        "early_stop = EarlyStopping(\n",
        "    patience=5,\n",
        "    restore_best_weights=True,\n",
        "    monitor='val_loss'\n",
        ")\n",
        "\n",
        "best_acc   = 0\n",
        "best_model = None\n",
        "best_params= None\n",
        "\n",
        "# Exhaustive scan over the grid\n",
        "for params in ParameterGrid(param_grid):\n",
        "    print(\"Testing:\", params)\n",
        "\n",
        "    # Build and train the network with current hyper-parameters\n",
        "    model = create_fnn_model(\n",
        "        input_dim=X_train_p.shape[1],\n",
        "        units=params['units'],\n",
        "        dropout_rate=params['dropout_rate'],\n",
        "        learning_rate=params['learning_rate']\n",
        "    )\n",
        "    history = model.fit(\n",
        "        X_train_p, y_train,\n",
        "        validation_data=(X_val_p, y_val),\n",
        "        epochs=50,\n",
        "        batch_size=params['batch_size'],\n",
        "        callbacks=[early_stop],\n",
        "        verbose=0\n",
        "    )\n",
        "\n",
        "    # Last validation accuracy of this run\n",
        "    val_acc = history.history['val_accuracy'][-1]\n",
        "    print(f\"   → val_accuracy = {val_acc:.4f}\")\n",
        "\n",
        "    # Update the best model if current run beats previous best\n",
        "    if val_acc > best_acc:\n",
        "        best_acc    = val_acc\n",
        "        best_model  = model\n",
        "        best_params = params\n",
        "        best_history= history\n",
        "\n",
        "print(\"\\nBEST PARAMS :\", best_params)\n",
        "print(\"BEST VAL ACC:\", best_acc)"
      ],
      "metadata": {
        "colab": {
          "base_uri": "https://localhost:8080/"
        },
        "id": "DIH1LJCWvEJR",
        "outputId": "bae9160b-3dae-4238-8e87-1ecad5bc52ec"
      },
      "execution_count": 44,
      "outputs": [
        {
          "output_type": "stream",
          "name": "stdout",
          "text": [
            "Testing: {'batch_size': 32, 'dropout_rate': 0.2, 'learning_rate': 0.001, 'units': [64, 32, 16, 8]}\n",
            "   → val_accuracy = 0.8516\n",
            "Testing: {'batch_size': 32, 'dropout_rate': 0.2, 'learning_rate': 0.001, 'units': [128, 64, 32, 16]}\n",
            "   → val_accuracy = 0.8492\n",
            "Testing: {'batch_size': 32, 'dropout_rate': 0.2, 'learning_rate': 0.01, 'units': [64, 32, 16, 8]}\n",
            "   → val_accuracy = 0.8467\n",
            "Testing: {'batch_size': 32, 'dropout_rate': 0.2, 'learning_rate': 0.01, 'units': [128, 64, 32, 16]}\n",
            "   → val_accuracy = 0.8512\n",
            "Testing: {'batch_size': 32, 'dropout_rate': 0.3, 'learning_rate': 0.001, 'units': [64, 32, 16, 8]}\n",
            "   → val_accuracy = 0.8502\n",
            "Testing: {'batch_size': 32, 'dropout_rate': 0.3, 'learning_rate': 0.001, 'units': [128, 64, 32, 16]}\n",
            "   → val_accuracy = 0.8473\n",
            "Testing: {'batch_size': 32, 'dropout_rate': 0.3, 'learning_rate': 0.01, 'units': [64, 32, 16, 8]}\n",
            "   → val_accuracy = 0.8479\n",
            "Testing: {'batch_size': 32, 'dropout_rate': 0.3, 'learning_rate': 0.01, 'units': [128, 64, 32, 16]}\n",
            "   → val_accuracy = 0.8495\n",
            "Testing: {'batch_size': 64, 'dropout_rate': 0.2, 'learning_rate': 0.001, 'units': [64, 32, 16, 8]}\n",
            "   → val_accuracy = 0.8482\n",
            "Testing: {'batch_size': 64, 'dropout_rate': 0.2, 'learning_rate': 0.001, 'units': [128, 64, 32, 16]}\n",
            "   → val_accuracy = 0.8492\n",
            "Testing: {'batch_size': 64, 'dropout_rate': 0.2, 'learning_rate': 0.01, 'units': [64, 32, 16, 8]}\n",
            "   → val_accuracy = 0.8486\n",
            "Testing: {'batch_size': 64, 'dropout_rate': 0.2, 'learning_rate': 0.01, 'units': [128, 64, 32, 16]}\n",
            "   → val_accuracy = 0.8462\n",
            "Testing: {'batch_size': 64, 'dropout_rate': 0.3, 'learning_rate': 0.001, 'units': [64, 32, 16, 8]}\n",
            "   → val_accuracy = 0.8496\n",
            "Testing: {'batch_size': 64, 'dropout_rate': 0.3, 'learning_rate': 0.001, 'units': [128, 64, 32, 16]}\n",
            "   → val_accuracy = 0.8500\n",
            "Testing: {'batch_size': 64, 'dropout_rate': 0.3, 'learning_rate': 0.01, 'units': [64, 32, 16, 8]}\n",
            "   → val_accuracy = 0.8490\n",
            "Testing: {'batch_size': 64, 'dropout_rate': 0.3, 'learning_rate': 0.01, 'units': [128, 64, 32, 16]}\n",
            "   → val_accuracy = 0.8460\n",
            "\n",
            "BEST PARAMS : {'batch_size': 32, 'dropout_rate': 0.2, 'learning_rate': 0.001, 'units': [64, 32, 16, 8]}\n",
            "BEST VAL ACC: 0.8515625\n"
          ]
        }
      ]
    },
    {
      "cell_type": "code",
      "source": [
        "# Evaluate best model on the validation set\n",
        "y_pred = (best_model.predict(X_val_p) > 0.5).astype(int).flatten()\n",
        "\n",
        "print(\"\\n--- Feed-Forward NN (tuned) ---\")\n",
        "print(\"Accuracy :\", accuracy_score(y_val, y_pred))\n",
        "print(classification_report(y_val, y_pred))\n",
        "print(confusion_matrix(y_val, y_pred))"
      ],
      "metadata": {
        "colab": {
          "base_uri": "https://localhost:8080/"
        },
        "id": "jX61QL79vJvx",
        "outputId": "cf01ce32-d98c-448f-c8fb-c94507d329f6"
      },
      "execution_count": 45,
      "outputs": [
        {
          "output_type": "stream",
          "name": "stdout",
          "text": [
            "\u001b[1m288/288\u001b[0m \u001b[32m━━━━━━━━━━━━━━━━━━━━\u001b[0m\u001b[37m\u001b[0m \u001b[1m1s\u001b[0m 2ms/step\n",
            "\n",
            "--- Feed-Forward NN (tuned) ---\n",
            "Accuracy : 0.8484157986111112\n",
            "              precision    recall  f1-score   support\n",
            "\n",
            "         0.0       0.88      0.93      0.90      6921\n",
            "         1.0       0.73      0.61      0.67      2295\n",
            "\n",
            "    accuracy                           0.85      9216\n",
            "   macro avg       0.81      0.77      0.79      9216\n",
            "weighted avg       0.84      0.85      0.84      9216\n",
            "\n",
            "[[6412  509]\n",
            " [ 888 1407]]\n"
          ]
        }
      ]
    },
    {
      "cell_type": "markdown",
      "source": [
        "Plot training-vs-validation accuracy and loss for the best run."
      ],
      "metadata": {
        "id": "ioTEMAzw5EMW"
      }
    },
    {
      "cell_type": "code",
      "source": [
        "# Learning curves\n",
        "hist = best_history.history\n",
        "print(\"Available history keys:\", hist.keys())  # quick check\n",
        "\n",
        "# Handle both 'accuracy' / 'acc' naming\n",
        "train_acc = hist.get('accuracy', hist.get('acc', []))\n",
        "val_acc   = hist.get('val_accuracy', hist.get('val_acc', []))\n",
        "\n",
        "plt.figure(figsize=(10,4))\n",
        "\n",
        "plt.subplot(1,2,1)\n",
        "plt.plot(train_acc, label='train acc')\n",
        "plt.plot(val_acc,   label='val acc')\n",
        "plt.title('Accuracy'); plt.xlabel('epoch'); plt.legend()\n",
        "\n",
        "plt.subplot(1,2,2)\n",
        "plt.plot(hist['loss'],      label='train loss')\n",
        "plt.plot(hist['val_loss'],  label='val loss')\n",
        "plt.title('Loss'); plt.xlabel('epoch'); plt.legend()\n",
        "\n",
        "plt.tight_layout(); plt.show()"
      ],
      "metadata": {
        "colab": {
          "base_uri": "https://localhost:8080/",
          "height": 424
        },
        "id": "ihd8JD2hxuiJ",
        "outputId": "187d1e96-b039-425c-b7a4-fcae18273f49"
      },
      "execution_count": 46,
      "outputs": [
        {
          "output_type": "stream",
          "name": "stdout",
          "text": [
            "Available history keys: dict_keys(['accuracy', 'loss', 'val_accuracy', 'val_loss'])\n"
          ]
        },
        {
          "output_type": "display_data",
          "data": {
            "text/plain": [
              "<Figure size 1000x400 with 2 Axes>"
            ],
            "image/png": "[encoded data removed]"
          },
          "metadata": {}
        }
      ]
    },
    {
      "cell_type": "markdown",
      "source": [
        "The tuned 4-layer feed-forward network reaches **≈ 0.85 validation accuracy** with dropout 0.2 and a modest architecture  ([64, 32, 16, 8]).\n",
        "Learning curves overlap tightly, confirming that early stopping + dropout effectively prevent overfitting.\n",
        "\n",
        "Key tuning take-aways\n",
        "\n",
        "-**Compact nets beat wider ones** – doubling hidden units did not improve accuracy.\n",
        "\n",
        "-**lr = 0.001** is consistently better than 0.01.\n",
        "\n",
        "-**Batch 32 edges** out 64 by ~0.3 pp.\n",
        "\n",
        "Metric highlights (val set)\n",
        "\n",
        "-**Class ≤ 50 K**: precision 0.88, recall 0.93 – the majority class is handled well.\n",
        "\n",
        "-**Class > 50 K**: precision 0.73, recall 0.61 – still many false negatives.\n",
        "→ next step: apply class-weights or focal loss to boost minority-class recall.\n",
        "\n",
        "Overall, the neural network delivers performance on par with Homework B1’s best models, but does so with stable training curves and no signs of over-fitting."
      ],
      "metadata": {
        "id": "ZeAh8YAbLTMs"
      }
    }
  ]
}